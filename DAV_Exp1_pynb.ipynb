{
  "nbformat": 4,
  "nbformat_minor": 0,
  "metadata": {
    "colab": {
      "provenance": []
    },
    "kernelspec": {
      "name": "ir",
      "display_name": "R"
    },
    "language_info": {
      "name": "R"
    }
  },
  "cells": [
    {
      "cell_type": "markdown",
      "source": [
        "Data Analytics and Visualisation\n",
        "\n",
        "Aim :Getting introduced to data analytics libraries in Python and R\n",
        "\n",
        "\n",
        "Lab Objectives: To effectively use libraries for data analytics.\n",
        "\n",
        "Lab Outcomes (LO): Explore various data analytics Libraries in R and Python. (LO1)"
      ],
      "metadata": {
        "id": "UVmCowpDRkhH"
      }
    },
    {
      "cell_type": "markdown",
      "source": [
        "Theory:\n",
        " Tensorflow\n",
        "\n",
        "TensorFlow can be used to develop models for various tasks, including natural language processing, image recognition, handwriting recognition, and different computational-based simulations such as partial differential equations.\n",
        "\n",
        "Features:\n",
        "Efficiently works with mathematical expressions involving multi-dimensional arrays\n",
        "Good support of deep neural networks and machine learning concepts\n",
        "GPU/CPU computing where the same code can be executed on both architectures\n",
        "High scalability of computation across machines and huge data sets\n",
        "\n",
        "Applications:\n",
        "\n",
        "Tensorflow has very vast applications\n",
        "\n",
        "Image classification\n",
        "\n",
        "Object detection\n",
        "\n",
        "Pose estimation\n",
        "\n",
        "Speech recognition\n",
        "\n",
        "Gesture recognition\n",
        "\n",
        "Segmentation\n",
        "\n",
        "Text classification\n",
        "\n"
      ],
      "metadata": {
        "id": "MtDMC5ytT-3g"
      }
    },
    {
      "cell_type": "markdown",
      "source": [
        "Numpy\n",
        "\n",
        "NumPy is a Python library used for working with arrays.\n",
        "\n",
        "It also has functions for working in domain of linear algebra, fourier transform, and matrices."
      ],
      "metadata": {
        "id": "5a4iWdflaAkY"
      }
    },
    {
      "cell_type": "markdown",
      "source": [
        "Features:\n",
        "POWERFUL N-DIMENSIONAL ARRAYS\n",
        "\n",
        "Fast and versatile, the NumPy vectorization, indexing, and broadcasting concepts are the de-facto standards of array computing today.\n",
        "\n",
        "NUMERICAL COMPUTING TOOLS\n",
        "\n",
        "NumPy offers comprehensive mathematical functions, random number generators, linear algebra routines, Fourier transforms, and more.\n",
        "\n",
        "\n",
        "OPEN SOURCE\n",
        "\n",
        "Distributed under a liberal BSD license, NumPy is developed and maintained publicly on GitHub by a vibrant, responsive, and diverse community.\n",
        "\n",
        "INTEROPERABLE\n",
        "\n",
        "NumPy supports a wide range of hardware and computing platforms, and plays well with distributed, GPU, and sparse array libraries.\n",
        "\n",
        "PERFORMANT\n",
        "\n",
        "The core of NumPy is well-optimized C code. Enjoy the flexibility of Python with the speed of compiled code.\n",
        "\n",
        "EASY TO USE\n",
        "\n",
        "NumPy’s high level syntax makes it accessible and productive for programmers from any background or experience level.\n",
        "\n",
        "---\n",
        "\n"
      ],
      "metadata": {
        "id": "TY8ZAwAcaw8n"
      }
    },
    {
      "cell_type": "markdown",
      "source": [
        "Applications\n",
        "\n",
        "Mathematical and Logical Operations:\n",
        "\n",
        "\n",
        "NumPy provides a wide range of mathematical functions that operate element-wise on arrays, including basic arithmetic operations, trigonometric functions, logarithms, exponentials, etc.\n",
        "Logical operations can be performed on arrays, allowing for element-wise comparisons and Boolean operations.\n",
        "\n",
        "Array Operations:\n",
        "\n",
        "\n",
        "NumPy arrays are efficient for performing array operations and manipulations, such as reshaping, slicing, indexing, and concatenation.\n",
        "Broadcasting allows NumPy to perform operations on arrays of different shapes, making it convenient for various mathematical tasks.\n",
        "\n",
        "Linear Algebra:\n",
        "\n",
        "\n",
        "NumPy has a dedicated submodule (numpy.linalg) that provides a set of functions for linear algebra operations, such as matrix multiplication, eigenvalue decomposition, singular value decomposition, and solving linear equations."
      ],
      "metadata": {
        "id": "EUju8d_Ubp6B"
      }
    },
    {
      "cell_type": "code",
      "source": [
        "!pip install numpy\n"
      ],
      "metadata": {
        "colab": {
          "base_uri": "https://localhost:8080/"
        },
        "id": "thO71JpbQLuH",
        "outputId": "947b1e85-ddf3-4855-e072-d5b066af4c8f"
      },
      "execution_count": null,
      "outputs": [
        {
          "output_type": "stream",
          "name": "stdout",
          "text": [
            "Requirement already satisfied: numpy in /usr/local/lib/python3.10/dist-packages (1.23.5)\n"
          ]
        }
      ]
    },
    {
      "cell_type": "code",
      "source": [
        "import numpy as np\n",
        "\n",
        "arr = np.array([1, 2, 3, 4, 5, 6, 7])\n",
        "#Slicing\n",
        "print(arr[1:5])\n",
        "#Iterating\n",
        "for x in arr:\n",
        "  print(x)\n"
      ],
      "metadata": {
        "id": "HceClI72WTe6"
      },
      "execution_count": null,
      "outputs": []
    },
    {
      "cell_type": "code",
      "source": [
        "#Joining two arrays\n",
        "arr1 = np.array([1, 2, 3,8 ])\n",
        "\n",
        "arr2 = np.array([4, 5, 6,7])\n",
        "\n",
        "arr = np.concatenate((arr1, arr2))\n",
        "\n",
        "print(arr)\n",
        "\n",
        "#splitting\n",
        "newarr = np.array_split(arr, 3)\n",
        "print(newarr)\n",
        "#Sorting\n",
        "print(np.sort(arr))"
      ],
      "metadata": {
        "colab": {
          "base_uri": "https://localhost:8080/"
        },
        "id": "FkSPdPcdYfGA",
        "outputId": "385ad50f-7c04-4d9a-f2c7-ef526cdec48e"
      },
      "execution_count": null,
      "outputs": [
        {
          "output_type": "stream",
          "name": "stdout",
          "text": [
            "[1 2 3 8 4 5 6 7]\n",
            "[array([1, 2, 3]), array([8, 4, 5]), array([6, 7])]\n",
            "[1 2 3 4 5 6 7 8]\n"
          ]
        }
      ]
    },
    {
      "cell_type": "code",
      "source": [],
      "metadata": {
        "id": "XWsfW1rjZAsv"
      },
      "execution_count": null,
      "outputs": []
    },
    {
      "cell_type": "markdown",
      "source": [
        "Pandas\n",
        "\n",
        "Pandas is a Python library used for working with data sets.\n",
        "\n",
        "It has functions for analyzing, cleaning, exploring, and manipulating data.\n",
        "\n",
        "Pandas allows us to analyze big data and make conclusions based on statistical theories.\n",
        "\n",
        "Pandas can clean messy data sets, and make them readable and relevant.\n",
        "\n",
        "Relevant data is very important in data science.\n",
        "\n",
        "Features:\n",
        "1. Data cleaning\n",
        "Pandas offers various functions for cleaning and transforming your data, such as filling in missing values, dropping columns or rows, deleting NULL values and renaming columns.\n",
        "\n",
        "2. Data filtering and selection\n",
        "Pandas allow for a range of fine filtering and selection functions, based on highly granular conditions. So, no matter how complex the data is, you can extract the exact information you want.\n",
        "\n",
        "3. Data aggregation\n",
        "With Pandas, you can perform aggregation operations like groupby, pivot, and merge to summarize and restructure your data.\n",
        "\n",
        "4. Data visualization\n",
        "Pandas integrates with the popular data visualization library, Matplotlib, allowing you to create various types of plots and charts from your data.\n",
        "\n",
        "\n"
      ],
      "metadata": {
        "id": "w2K8hdHtd24p"
      }
    },
    {
      "cell_type": "markdown",
      "source": [],
      "metadata": {
        "id": "q4CNLWEug9fm"
      }
    },
    {
      "cell_type": "code",
      "source": [
        "df.plot()\n",
        "plt.show()"
      ],
      "metadata": {
        "colab": {
          "base_uri": "https://localhost:8080/",
          "height": 430
        },
        "id": "n4_pTjgkdUCP",
        "outputId": "ad131174-7d64-4682-8335-e4c36473128a"
      },
      "execution_count": null,
      "outputs": [
        {
          "output_type": "display_data",
          "data": {
            "text/plain": [
              "<Figure size 640x480 with 1 Axes>"
            ],
            "image/png": "[encoded data removed]"
          },
          "metadata": {}
        }
      ]
    },
    {
      "cell_type": "code",
      "source": [
        "import pandas as pd\n",
        "import matplotlib.pyplot as plt\n",
        "\n",
        "df = pd.read_csv('/content/sample_data/california_housing_train.csv')\n",
        "\n",
        "df.plot(kind = 'scatter', x = 'households', y = 'population')\n",
        "\n",
        "plt.show()"
      ],
      "metadata": {
        "id": "_rfROl6ug7c_",
        "colab": {
          "base_uri": "https://localhost:8080/",
          "height": 449
        },
        "outputId": "5d6c5340-7aaa-4654-824f-6061feaa5133"
      },
      "execution_count": null,
      "outputs": [
        {
          "output_type": "display_data",
          "data": {
            "text/plain": [
              "<Figure size 640x480 with 1 Axes>"
            ],
            "image/png": "[encoded data removed]"
          },
          "metadata": {}
        }
      ]
    },
    {
      "cell_type": "markdown",
      "source": [
        "Keras\n",
        "\n",
        "---\n",
        "Keras is a popular high-level neural networks API, written in Python and capable of running on top of TensorFlow, Microsoft Cognitive Toolkit (CNTK), or Theano. It provides a simple and intuitive interface for building, training, and deploying deep learning models.\n"
      ],
      "metadata": {
        "id": "zgdjVKRyeVzq"
      }
    },
    {
      "cell_type": "markdown",
      "source": [
        "Features\n",
        "\n",
        "Simple Interface: Keras offers a user-friendly, modular, and easy-to-understand interface, making it suitable for both beginners and experts in deep learning.\n",
        "\n",
        "Modularity: Neural networks in Keras are built as a sequence of standalone, fully-configurable modules, which can be combined to create complex architectures. This modularity allows for rapid experimentation and prototyping.\n",
        "\n",
        "Multiple Backends: Keras can seamlessly run on top of TensorFlow, Microsoft Cognitive Toolkit (CNTK), or Theano, providing users with the flexibility to choose the backend that best suits their needs.\n",
        "\n",
        "Support for Convolutional and Recurrent Networks: Keras supports the construction of convolutional neural networks (CNNs) and recurrent neural networks (RNNs), as well as combinations of both, facilitating the implementation of various deep learning architectures for tasks like image recognition, natural language processing, and more.\n",
        "\n",
        "Built-in Layers: Keras provides a wide range of built-in layers for constructing neural networks, including dense (fully connected), convolutional, pooling, recurrent, dropout, normalization, and activation layers. These layers can be easily added and configured using a simple API."
      ],
      "metadata": {
        "id": "ClujphTmfSiT"
      }
    },
    {
      "cell_type": "markdown",
      "source": [
        "Applications\n",
        "\n",
        "Image Recognition and Classification: Keras is widely used for tasks such as object recognition, image classification, and image segmentation. Applications include identifying objects in images for autonomous vehicles, medical image analysis for disease diagnosis, and content-based image retrieval.\n",
        "\n",
        "Natural Language Processing (NLP): Keras is employed for building models for sentiment analysis, named entity recognition, machine translation, text generation, and document classification. These applications are used in chatbots, virtual assistants, recommendation systems, and language translation services.\n",
        "\n",
        "Speech Recognition: Keras is utilized for developing models for speech recognition tasks such as speech-to-text conversion, speaker recognition, and emotion detection from speech signals. These applications are used in voice assistants, voice-controlled devices, and speech analytics systems.\n",
        "\n",
        "Time Series Forecasting: Keras is applied for building models to forecast future values based on historical time-series data. This includes applications like financial market prediction, weather forecasting, energy demand prediction, and sales forecasting.\n",
        "\n",
        "Anomaly Detection: Keras is used to build models for anomaly detection tasks, where the goal is to identify unusual patterns or outliers in data. This is applied in fraud detection, network intrusion detection, equipment failure prediction, and health monitoring systems."
      ],
      "metadata": {
        "id": "RJJdjzxEfnPB"
      }
    },
    {
      "cell_type": "markdown",
      "source": [
        "Scikit Learn\n",
        "\n",
        "\n",
        "---\n",
        "\n",
        "\n",
        "\n",
        "Scikit-learn is a powerful and widely used machine learning library in Python, known for its simplicity, efficiency, and versatility."
      ],
      "metadata": {
        "id": "3CvLd5Ekf-3c"
      }
    },
    {
      "cell_type": "markdown",
      "source": [
        "Features\n",
        "\n",
        "Simple and Consistent API: Scikit-learn provides a simple and consistent interface for various machine learning tasks, making it easy for users to experiment with different algorithms and techniques.\n",
        "\n",
        "Wide Range of Algorithms: Scikit-learn includes implementations of a wide range of supervised and unsupervised learning algorithms, including classification, regression, clustering, dimensionality reduction, and model selection. This includes popular algorithms such as linear regression, logistic regression, decision trees, random forests, support vector machines, k-nearest neighbors, k-means clustering, and more.\n",
        "\n",
        "Ease of Use: Scikit-learn is designed to be user-friendly, with straightforward functions and classes that make it accessible to users of all skill levels. It provides sensible defaults and parameter settings, reducing the need for extensive manual tuning.\n",
        "\n",
        "Integration with NumPy and SciPy: Scikit-learn seamlessly integrates with other popular Python libraries such as NumPy and SciPy, making it easy to manipulate and preprocess data, as well as to incorporate advanced mathematical functions and algorithms into machine learning pipelines.\n",
        "\n",
        "Data Preprocessing and Feature Engineering: Scikit-learn includes a wide range of tools for data preprocessing and feature engineering, including techniques for handling missing values, scaling features, encoding categorical variables, and generating polynomial features. These tools help users prepare their data for training machine learning models."
      ],
      "metadata": {
        "id": "tQumXebkgqhF"
      }
    },
    {
      "cell_type": "markdown",
      "source": [
        "Applications\n",
        "\n",
        "\n",
        "Classification: Scikit-learn is often used for classification tasks, where the goal is to categorize data points into predefined classes or categories. Applications include email spam detection, sentiment analysis, document classification, and medical diagnosis.\n",
        "\n",
        "Regression: Scikit-learn is used for regression tasks, where the goal is to predict a continuous outcome variable based on one or more predictor variables. Applications include house price prediction, stock market forecasting, demand forecasting, and sales prediction.\n",
        "\n",
        "Clustering: Scikit-learn provides algorithms for clustering, which involves grouping similar data points together based on their features. Clustering is used in customer segmentation, anomaly detection, image segmentation, and recommendation systems.\n",
        "\n",
        "Dimensionality Reduction: Scikit-learn offers techniques for dimensionality reduction, which involves reducing the number of features in a dataset while preserving its important characteristics. Dimensionality reduction is used for data visualization, feature selection, and speeding up machine learning algorithms.\n",
        "\n",
        "Anomaly Detection: Scikit-learn is used for anomaly detection, which involves identifying unusual patterns or outliers in data. Anomaly detection is used in fraud detection, network security, equipment maintenance, and health monitoring."
      ],
      "metadata": {
        "id": "3PY91WJQfViw"
      }
    },
    {
      "cell_type": "code",
      "source": [],
      "metadata": {
        "id": "0ElAr2DEhcvA"
      },
      "execution_count": null,
      "outputs": []
    },
    {
      "cell_type": "markdown",
      "source": [
        "R programming\n",
        "\n",
        "1) dplyr\n",
        "\n",
        "It is a popular R package for data manipulation and transformation. Developed by Hadley Wickham, it provides a set of functions that are designed to make common data manipulation tasks easier and more intuitive\n"
      ],
      "metadata": {
        "id": "hUvAc1a3hoSe"
      }
    },
    {
      "cell_type": "markdown",
      "source": [
        "Features\n",
        "\n",
        "Consistent Syntax: dplyr provides a consistent syntax for data manipulation tasks, making it easier to learn and use compared to base R functions.\n",
        "\n",
        "Data Frame Manipulation: It offers a set of functions specifically designed for data frame manipulation, allowing users to perform common operations such as selecting columns, filtering rows, arranging rows, mutating (creating or modifying) columns, grouping data, and summarizing data.\n",
        "\n",
        "Piping (%>%): dplyr seamlessly integrates with the %>% operator from the magrittr package, allowing for more readable code by chaining together multiple operations.\n",
        "\n",
        "Lazy Evaluation: dplyr uses lazy evaluation, which means that operations are not immediately executed but are instead queued up and executed when needed. This can lead to more efficient code execution, especially when working with large datasets.\n",
        "\n",
        "SQL-like Functions: Many functions in dplyr have counterparts in SQL, making it easier for users familiar with SQL to transition to R for data manipulation tasks."
      ],
      "metadata": {
        "id": "kWiesAotiaM4"
      }
    },
    {
      "cell_type": "markdown",
      "source": [
        "Applications\n",
        "\n",
        "Data Cleaning: dplyr simplifies the process of cleaning and preparing data for analysis by providing functions for filtering rows, selecting columns, handling missing values, and transforming data.\n",
        "\n",
        "Data Exploration: Analysts use dplyr to explore datasets, compute summary statistics, and identify patterns or trends within the data. Functions like group_by() and summarise() are particularly useful for summarizing data within groups.\n",
        "\n",
        "Data Transformation: dplyr facilitates data transformation tasks such as creating new variables, recoding categorical variables, standardizing data formats, and performing calculations on existing variables using functions like mutate().\n",
        "\n",
        "Data Aggregation: Analysts and data scientists use dplyr to aggregate data across multiple variables or groups using functions like group_by() and summarise(). This is essential for generating insights and building predictive models.\n",
        "\n",
        "Data Analysis: dplyr is often used in conjunction with statistical modeling and machine learning techniques for data analysis tasks. Analysts leverage its functions to preprocess data, generate features, and perform exploratory data analysis (EDA)."
      ],
      "metadata": {
        "id": "x1A9p_Xe8SDc"
      }
    },
    {
      "cell_type": "code",
      "source": [
        "df <- data.frame(\n",
        "  Name = c(\"vipul\", \"jayesh\", \"anurag\",\"Rohit\",\"Rohan\",\"Sumit\",\"Mayank\"),\n",
        "  Age = c(25, 23, 22,27,30,33,25),\n",
        "  Score = c(95, 89, 78,81,87,96,95)\n",
        ")\n",
        "df"
      ],
      "metadata": {
        "colab": {
          "base_uri": "https://localhost:8080/",
          "height": 317
        },
        "id": "fLoghC-w5YUM",
        "outputId": "e92a80e6-c44a-42cb-c7fe-5daa98bc5b89"
      },
      "execution_count": 2,
      "outputs": [
        {
          "output_type": "display_data",
          "data": {
            "text/html": [
              "<table class=\"dataframe\">\n",
              "<caption>A data.frame: 7 × 3</caption>\n",
              "<thead>\n",
              "\t<tr><th scope=col>Name</th><th scope=col>Age</th><th scope=col>Score</th></tr>\n",
              "\t<tr><th scope=col>&lt;chr&gt;</th><th scope=col>&lt;dbl&gt;</th><th scope=col>&lt;dbl&gt;</th></tr>\n",
              "</thead>\n",
              "<tbody>\n",
              "\t<tr><td>vipul </td><td>25</td><td>95</td></tr>\n",
              "\t<tr><td>jayesh</td><td>23</td><td>89</td></tr>\n",
              "\t<tr><td>anurag</td><td>22</td><td>78</td></tr>\n",
              "\t<tr><td>Rohit </td><td>27</td><td>81</td></tr>\n",
              "\t<tr><td>Rohan </td><td>30</td><td>87</td></tr>\n",
              "\t<tr><td>Sumit </td><td>33</td><td>96</td></tr>\n",
              "\t<tr><td>Mayank</td><td>25</td><td>95</td></tr>\n",
              "</tbody>\n",
              "</table>\n"
            ],
            "text/markdown": "\nA data.frame: 7 × 3\n\n| Name &lt;chr&gt; | Age &lt;dbl&gt; | Score &lt;dbl&gt; |\n|---|---|---|\n| vipul  | 25 | 95 |\n| jayesh | 23 | 89 |\n| anurag | 22 | 78 |\n| Rohit  | 27 | 81 |\n| Rohan  | 30 | 87 |\n| Sumit  | 33 | 96 |\n| Mayank | 25 | 95 |\n\n",
            "text/latex": "A data.frame: 7 × 3\n\\begin{tabular}{lll}\n Name & Age & Score\\\\\n <chr> & <dbl> & <dbl>\\\\\n\\hline\n\t vipul  & 25 & 95\\\\\n\t jayesh & 23 & 89\\\\\n\t anurag & 22 & 78\\\\\n\t Rohit  & 27 & 81\\\\\n\t Rohan  & 30 & 87\\\\\n\t Sumit  & 33 & 96\\\\\n\t Mayank & 25 & 95\\\\\n\\end{tabular}\n",
            "text/plain": [
              "  Name   Age Score\n",
              "1 vipul  25  95   \n",
              "2 jayesh 23  89   \n",
              "3 anurag 22  78   \n",
              "4 Rohit  27  81   \n",
              "5 Rohan  30  87   \n",
              "6 Sumit  33  96   \n",
              "7 Mayank 25  95   "
            ]
          },
          "metadata": {}
        }
      ]
    },
    {
      "cell_type": "code",
      "source": [
        "library(dplyr)"
      ],
      "metadata": {
        "colab": {
          "base_uri": "https://localhost:8080/"
        },
        "id": "xR8UyLfl7GSM",
        "outputId": "a0bb1d2d-26eb-4909-be59-14c649ab5483"
      },
      "execution_count": 5,
      "outputs": [
        {
          "output_type": "stream",
          "name": "stderr",
          "text": [
            "\n",
            "Attaching package: ‘dplyr’\n",
            "\n",
            "\n",
            "The following objects are masked from ‘package:stats’:\n",
            "\n",
            "    filter, lag\n",
            "\n",
            "\n",
            "The following objects are masked from ‘package:base’:\n",
            "\n",
            "    intersect, setdiff, setequal, union\n",
            "\n",
            "\n"
          ]
        }
      ]
    },
    {
      "cell_type": "code",
      "source": [
        "selected_data <- select(df, Age )\n",
        "print(selected_data)\n",
        "\n"
      ],
      "metadata": {
        "colab": {
          "base_uri": "https://localhost:8080/"
        },
        "id": "o2KZhbw36Gua",
        "outputId": "560a2d77-f7d3-498f-ef36-b4540e307a38"
      },
      "execution_count": 6,
      "outputs": [
        {
          "output_type": "stream",
          "name": "stdout",
          "text": [
            "  Age\n",
            "1  25\n",
            "2  23\n",
            "3  22\n",
            "4  27\n",
            "5  30\n",
            "6  33\n",
            "7  25\n"
          ]
        }
      ]
    },
    {
      "cell_type": "code",
      "source": [
        "filtered_data <- filter(df, Age > 25)\n",
        "print(filtered_data)"
      ],
      "metadata": {
        "colab": {
          "base_uri": "https://localhost:8080/"
        },
        "id": "zgYEXqpu7U0g",
        "outputId": "ea56bd68-9bb9-4025-996d-ac6809754601"
      },
      "execution_count": 8,
      "outputs": [
        {
          "output_type": "stream",
          "name": "stdout",
          "text": [
            "   Name Age Score\n",
            "1 Rohit  27    81\n",
            "2 Rohan  30    87\n",
            "3 Sumit  33    96\n"
          ]
        }
      ]
    },
    {
      "cell_type": "code",
      "source": [
        "arranged_data <- arrange(df, desc(Age))\n",
        "print(arranged_data)"
      ],
      "metadata": {
        "colab": {
          "base_uri": "https://localhost:8080/"
        },
        "id": "7AwQtxh67d1e",
        "outputId": "da2c336a-f5ad-464f-9887-fd2878ed63f5"
      },
      "execution_count": 9,
      "outputs": [
        {
          "output_type": "stream",
          "name": "stdout",
          "text": [
            "    Name Age Score\n",
            "1  Sumit  33    96\n",
            "2  Rohan  30    87\n",
            "3  Rohit  27    81\n",
            "4  vipul  25    95\n",
            "5 Mayank  25    95\n",
            "6 jayesh  23    89\n",
            "7 anurag  22    78\n"
          ]
        }
      ]
    },
    {
      "cell_type": "code",
      "source": [
        "mutated_data <- mutate(df, SumofScoreandage = Age + Score)\n",
        "print(mutated_data)"
      ],
      "metadata": {
        "colab": {
          "base_uri": "https://localhost:8080/"
        },
        "id": "06zeWvat7p1k",
        "outputId": "95cf9e38-af66-4377-e3fa-87d08e3080c2"
      },
      "execution_count": 13,
      "outputs": [
        {
          "output_type": "stream",
          "name": "stdout",
          "text": [
            "    Name Age Score SumofScoreandage\n",
            "1  vipul  25    95              120\n",
            "2 jayesh  23    89              112\n",
            "3 anurag  22    78              100\n",
            "4  Rohit  27    81              108\n",
            "5  Rohan  30    87              117\n",
            "6  Sumit  33    96              129\n",
            "7 Mayank  25    95              120\n"
          ]
        }
      ]
    },
    {
      "cell_type": "markdown",
      "source": [
        "stringr\n",
        "\n",
        "\n",
        "---\n",
        "\n",
        "\n",
        "It is another popular package in R, developed by Hadley Wickham, that provides a set of functions for working with strings. It offers a consistent and intuitive interface for common string manipulation tasks, making it easier to clean and process textual data.\n",
        "\n"
      ],
      "metadata": {
        "id": "BCj-FEQf8mc_"
      }
    },
    {
      "cell_type": "markdown",
      "source": [
        "Features\n",
        "\n",
        "Consistent Function Naming: stringr follows a consistent naming convention for its functions, making it easy to remember and use them for various string operations.\n",
        "\n",
        "Vectorized Operations: Most stringr functions are vectorized, meaning they can operate on entire vectors of strings at once. This makes them efficient for working with large datasets.\n",
        "\n",
        "Pattern Matching: stringr offers functions for pattern matching within strings, allowing users to search for specific patterns or extract substrings based on patterns.\n",
        "\n",
        "Pattern Replacement: It provides functions for replacing occurrences of patterns within strings, allowing users to perform find-and-replace operations or make modifications based on patterns.\n",
        "\n",
        "String Extraction: stringr functions allow for easy extraction of substrings from strings based on positions or patterns, making it convenient to work with complex textual data."
      ],
      "metadata": {
        "id": "2RL2f14U-g9U"
      }
    },
    {
      "cell_type": "markdown",
      "source": [
        "Applications\n",
        "\n",
        "Data Cleaning and Preparation: stringr is often used in data cleaning tasks to clean and preprocess textual data before analysis. This may involve removing unwanted characters, correcting spelling errors, or standardizing text formats.\n",
        "\n",
        "Text Analysis and Mining: Analysts and researchers use stringr for text analysis tasks such as sentiment analysis, topic modeling, and text classification. Functions in stringr facilitate tasks like tokenization, stemming, and removing stopwords.\n",
        "\n",
        "Natural Language Processing (NLP): stringr plays a crucial role in NLP tasks such as named entity recognition, part-of-speech tagging, and text summarization. It provides functions for extracting and manipulating text features necessary for NLP algorithms.\n",
        "\n",
        "Web Scraping: When scraping data from websites, stringr can be used to extract specific information from HTML or XML documents. Functions like pattern matching and string extraction help parse and extract relevant content from web pages.\n",
        "\n",
        "Data Wrangling: stringr complements other data manipulation packages like dplyr and tidyr in the Tidyverse ecosystem. It is used for cleaning and transforming text data as part of the overall data wrangling process."
      ],
      "metadata": {
        "id": "6Rkzh0kr-uNz"
      }
    },
    {
      "cell_type": "code",
      "source": [
        "library(stringr)\n"
      ],
      "metadata": {
        "id": "cC6d6QZv8-fi"
      },
      "execution_count": 14,
      "outputs": []
    },
    {
      "cell_type": "code",
      "source": [
        "library(stringr)\n",
        "\n",
        "# Compute the length of a string\n",
        "string1<-\"Rohit Bhomkar\"\n",
        "length <- str_length(string1)\n",
        "print(length)\n"
      ],
      "metadata": {
        "colab": {
          "base_uri": "https://localhost:8080/"
        },
        "id": "WwT03m_b9OZ5",
        "outputId": "ead37c87-c338-472a-ddfe-f1f134824418"
      },
      "execution_count": 16,
      "outputs": [
        {
          "output_type": "stream",
          "name": "stdout",
          "text": [
            "[1] 14\n"
          ]
        }
      ]
    },
    {
      "cell_type": "code",
      "source": [
        "substring <- str_sub(string1, start = 1, end = 5)\n",
        "print(substring)"
      ],
      "metadata": {
        "colab": {
          "base_uri": "https://localhost:8080/"
        },
        "id": "UfmjR82D9weT",
        "outputId": "23a79e9a-7dc7-43b0-c4e7-2208d578c2ff"
      },
      "execution_count": 17,
      "outputs": [
        {
          "output_type": "stream",
          "name": "stdout",
          "text": [
            "[1] \"Rohit\"\n"
          ]
        }
      ]
    },
    {
      "cell_type": "code",
      "source": [
        "new_string <- str_replace(string1, \"R\", \"RRR\")\n",
        "print(new_string)"
      ],
      "metadata": {
        "colab": {
          "base_uri": "https://localhost:8080/"
        },
        "id": "_oZjQbcY91Pl",
        "outputId": "2d9f412c-b989-4f9d-88f3-bc84f3f2ef39"
      },
      "execution_count": 18,
      "outputs": [
        {
          "output_type": "stream",
          "name": "stdout",
          "text": [
            "[1] \"RRRohit  Bhomkar\"\n"
          ]
        }
      ]
    },
    {
      "cell_type": "code",
      "source": [
        "substrings <- str_split(string1, pattern = \" \")\n",
        "print(substrings[[1]])"
      ],
      "metadata": {
        "colab": {
          "base_uri": "https://localhost:8080/"
        },
        "id": "SrJrs5xO91du",
        "outputId": "875519f4-fa42-4049-bbda-690c1f09d3f5"
      },
      "execution_count": 19,
      "outputs": [
        {
          "output_type": "stream",
          "name": "stdout",
          "text": [
            "[1] \"Rohit\"   \"\"        \"Bhomkar\"\n"
          ]
        }
      ]
    },
    {
      "cell_type": "code",
      "source": [
        "contains_hello <- str_detect(string1, \"M\")\n",
        "print(contains_hello)"
      ],
      "metadata": {
        "colab": {
          "base_uri": "https://localhost:8080/"
        },
        "id": "TFTi9oeZ91p2",
        "outputId": "49bb5119-1dbc-458a-a3b3-5daa93796b49"
      },
      "execution_count": 20,
      "outputs": [
        {
          "output_type": "stream",
          "name": "stdout",
          "text": [
            "[1] FALSE\n"
          ]
        }
      ]
    },
    {
      "cell_type": "code",
      "source": [],
      "metadata": {
        "id": "Khr4OHgh-djx"
      },
      "execution_count": null,
      "outputs": []
    },
    {
      "cell_type": "markdown",
      "source": [
        "tidyr\n",
        "\n",
        "The tidyr package in R provides tools for efficiently tidying and reshaping data."
      ],
      "metadata": {
        "id": "o4986gib_BzK"
      }
    },
    {
      "cell_type": "markdown",
      "source": [
        "Features\n",
        "\n",
        "Tidy Data Principles: tidyr follows the principles of tidy data as outlined by Hadley Wickham. It aims to make data tidy by organizing it into a consistent structure where each variable forms a column, each observation forms a row, and each type of observational unit forms a table.\n",
        "\n",
        "Data Reshaping: tidyr offers functions like gather() and spread() for reshaping data between wide and long formats. These functions are essential for transforming data to a format suitable for analysis or visualization.\n",
        "\n",
        "Separating and Uniting Columns: tidyr provides separate() and unite() functions to split a single column into multiple columns based on a delimiter or pattern, and to combine multiple columns into a single column with a separator, respectively.\n",
        "\n",
        "Pivoting: tidyr introduces pivot_longer() and pivot_wider() functions for more flexible and powerful pivoting operations compared to gather() and spread(). These functions allow for reshaping data while simultaneously specifying column names and values.\n",
        "\n",
        "Missing Values Handling: tidyr provides options for handling missing values during reshaping operations, allowing users to control how missing values are treated and filled in the resulting dataset."
      ],
      "metadata": {
        "id": "v6XLrAKG_TII"
      }
    },
    {
      "cell_type": "markdown",
      "source": [
        "Applications\n",
        "\n",
        "Data Tidying: tidyr is widely used for tidying messy or untidy datasets by reshaping them into a tidy format that is easier to work with and analyze.\n",
        "\n",
        "Data Transformation: Analysts use tidyr to transform data into various shapes and structures to suit different analytical needs, such as converting data between wide and long formats or restructuring data for specific analyses.\n",
        "\n",
        "Data Aggregation: tidyr is often used in combination with dplyr for data aggregation tasks, where data is reshaped and summarized within groups to compute summary statistics or generate aggregated datasets.\n",
        "\n",
        "Data Visualization: tidyr helps prepare data for visualization by reshaping it into a format that can be easily plotted using visualization libraries like ggplot2. This includes restructuring data to create facets, overlays, or other plot arrangements.\n",
        "\n",
        "Data Modeling: Clean and tidy data is essential for building predictive models. tidyr assists in preparing data for modeling by reshaping it into a format suitable for feeding into machine learning algorithms or statistical models."
      ],
      "metadata": {
        "id": "Rbts1XCf_TW5"
      }
    },
    {
      "cell_type": "markdown",
      "source": [
        "readr\n",
        "\n",
        "---\n",
        "readr is an R package designed to efficiently read rectangular data files into R. It's part of the tidyverse suite of packages and focuses on providing fast and friendly functions for reading and parsing data. Here are its features and common applications:\n",
        "\n",
        "\n",
        "\n"
      ],
      "metadata": {
        "id": "YZ7qizZ__lom"
      }
    },
    {
      "cell_type": "markdown",
      "source": [
        "Features\n",
        "\n",
        "Efficiency: readr is designed for speed and efficiency, making it suitable for reading large datasets quickly. It's built using C++ code and optimized for performance.\n",
        "\n",
        "Consistent Interface: readr provides a consistent and user-friendly interface for reading various types of rectangular data files, including CSV, TSV, and fixed-width files.\n",
        "\n",
        "Automatic Column Type Inference: It automatically detects column types (e.g., numeric, character, factor) based on the data content, reducing the need for manual data type specification.\n",
        "\n",
        "Parsing Options: readr offers flexible options for parsing data files, allowing users to customize the parsing process based on specific requirements, such as specifying column names, skipping rows, and handling missing values.\n",
        "\n",
        "Support for Large Datasets: readr handles large datasets efficiently, with functions optimized for memory usage and performance. It can read files in chunks to avoid loading the entire dataset into memory at once."
      ],
      "metadata": {
        "id": "6bfKUNny_z-d"
      }
    },
    {
      "cell_type": "markdown",
      "source": [
        "Applications\n",
        "\n",
        "Data Import: readr is commonly used to import data from external sources into R for analysis. This includes reading CSV files exported from spreadsheets, TSV files from databases, or fixed-width files from legacy systems.\n",
        "\n",
        "Data Cleaning: It facilitates the initial stages of data cleaning by quickly loading datasets into R, allowing users to inspect the data structure, identify missing values, and assess data quality.\n",
        "\n",
        "Exploratory Data Analysis (EDA): readr supports EDA tasks by providing fast and efficient data import capabilities. Analysts can explore the data, visualize distributions, and identify patterns or trends to guide further analysis.\n",
        "\n",
        "Data Preprocessing: Before conducting statistical analysis or building predictive models, data often needs preprocessing. readr helps preprocess data by loading it into R and preparing it for subsequent analysis using other tidyverse packages like dplyr and tidyr.\n",
        "\n",
        "Reproducible Research: readr is essential for reproducible research workflows, where data import steps are documented and automated using R scripts or notebooks. This ensures that data import procedures are consistent and reproducible across analyses.\n",
        "\n"
      ],
      "metadata": {
        "id": "b39HCf2k_6ey"
      }
    },
    {
      "cell_type": "markdown",
      "source": [
        "ggplot2\n",
        "\n",
        "ggplot2 is an R package for creating graphics and data visualizations based on the Grammar of Graphics, a powerful conceptual framework for understanding and creating visualizations"
      ],
      "metadata": {
        "id": "4ZLfkli5ADsJ"
      }
    },
    {
      "cell_type": "markdown",
      "source": [
        "Features\n",
        "\n",
        "Grammar of Graphics: ggplot2 follows the Grammar of Graphics paradigm, which decomposes a plot into independent components such as data, aesthetics, and geometric objects. This provides a flexible and structured approach to creating complex visualizations.\n",
        "\n",
        "Layered Approach: Visualizations in ggplot2 are built by adding layers of graphical elements, allowing users to overlay different types of plots, annotations, and statistical summaries to convey multiple aspects of the data.\n",
        "\n",
        "Extensibility: ggplot2 is highly extensible, with a modular design that allows users to easily customize and extend plots with additional layers, themes, and scales. Users can create custom themes, scales, and geometric objects to tailor visualizations to their specific needs.\n",
        "\n",
        "Support for Multiple Data Sources: ggplot2 supports various data sources, including data frames, matrices, and lists, allowing users to visualize data stored in different formats.\n",
        "\n",
        "Wide Range of Plot Types: ggplot2 offers a wide range of plot types, including scatter plots, line plots, bar plots, histograms, boxplots, violin plots, and more. Users can choose the appropriate plot type based on the nature of their data and the insights they want to convey."
      ],
      "metadata": {
        "id": "woKr3jrGAXaW"
      }
    },
    {
      "cell_type": "markdown",
      "source": [
        "Applications\n",
        "\n",
        "Data Exploration: ggplot2 is used for exploring data and gaining insights into its underlying structure, patterns, and relationships. Analysts can create exploratory plots to visualize distributions, trends, correlations, and outliers in the data.\n",
        "\n",
        "Data Presentation: ggplot2 is widely used for presenting data and findings in reports, presentations, and publications. Its publication-quality output and customizable design elements make it suitable for creating visually appealing and informative graphics.\n",
        "\n",
        "Statistical Analysis: ggplot2 supports statistical transformations and summaries, allowing users to overlay statistical summaries such as means, medians, confidence intervals, and regression lines onto their plots to visualize relationships and trends in the data.\n",
        "\n",
        "Comparative Analysis: ggplot2 enables users to create comparative visualizations that compare different groups or categories within the data. This includes grouped plots, faceted plots, and overlaid plots that highlight differences and similarities across groups.\n",
        "\n",
        "Interactive Visualization: While ggplot2 primarily generates static graphics, it can be combined with interactive visualization packages such as plotly or ggplotly to create interactive plots that allow users to explore data dynamically."
      ],
      "metadata": {
        "id": "EkN6kVHLAYxK"
      }
    },
    {
      "cell_type": "markdown",
      "source": [
        "Conclusion:Both Python and R libraries play essential roles in data visualization and analytics, catering to different preferences and requirements of data analysts, scientists, and researchers. The choice between Python and R often depends on factors such as familiarity with the language, specific project requirements, and ecosystem preferences."
      ],
      "metadata": {
        "id": "x4y_Zq9IAlJJ"
      }
    }
  ]
}